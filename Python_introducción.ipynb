{
  "nbformat": 4,
  "nbformat_minor": 0,
  "metadata": {
    "colab": {
      "provenance": [],
      "authorship_tag": "ABX9TyOlXJ3X8ffPnPM00y3mzaUr",
      "include_colab_link": true
    },
    "kernelspec": {
      "name": "python3",
      "display_name": "Python 3"
    },
    "language_info": {
      "name": "python"
    }
  },
  "cells": [
    {
      "cell_type": "markdown",
      "metadata": {
        "id": "view-in-github",
        "colab_type": "text"
      },
      "source": [
        "<a href=\"https://colab.research.google.com/github/JosueAlvarezCasarrubia/Taller2-Prueba/blob/main/Python_introducci%C3%B3n.ipynb\" target=\"_parent\"><img src=\"https://colab.research.google.com/assets/colab-badge.svg\" alt=\"Open In Colab\"/></a>"
      ]
    },
    {
      "cell_type": "markdown",
      "source": [
        "***hola***"
      ],
      "metadata": {
        "id": "IJduziRSr0t8"
      }
    },
    {
      "cell_type": "markdown",
      "source": [
        "# MIS APUNTES DE PYTHON\n",
        "\n",
        "\n",
        "### FUNDAMENTOS DE PROGRAMACIÓN 2024_2\n",
        "\n",
        "**NOMBRE:** JOSUE ALVAREZ CASARRUBIA\n",
        "\n",
        "**FECHA DE CREACIÓN:** 20 DE AGOSTO DE 2024\n",
        "\n",
        "__EMAIL:__ josue.alvarez@upb.edu.co\n",
        "\n"
      ],
      "metadata": {
        "id": "N4yi_iFsseUX"
      }
    },
    {
      "cell_type": "code",
      "source": [
        "# MIS PRIMEROS PASOS CON PYTHON\n",
        "nombre = \"JOSUE\"\n",
        "edad = 21\n",
        "mensaje = \"hola, soy \"+ nombre +\" y tengo \"+ str(edad)+\" años\"\n",
        "\n",
        "print(mensaje)\n",
        "\n",
        "\n",
        "print(\"hola, mi nombre es\",nombre,\"y tengo\",edad, \"años de edad\")\n",
        "\n",
        "\n",
        "#numeros\n",
        "a = 10\n",
        "b = 2.5\n",
        "c = a + b\n",
        "print(a+b)\n",
        "\n",
        "\n",
        "# tipo de datos\n",
        "print(type(a))\n",
        "print(type(b))\n",
        "print(type(c))"
      ],
      "metadata": {
        "colab": {
          "base_uri": "https://localhost:8080/"
        },
        "id": "g6ZZh9X8upoS",
        "outputId": "d9cd0f9b-047c-4972-e259-0bf266060185"
      },
      "execution_count": null,
      "outputs": [
        {
          "output_type": "stream",
          "name": "stdout",
          "text": [
            "hola, soy JOSUE y tengo 21 años\n",
            "hola, mi nombre es JOSUE y tengo 21 años de edad\n",
            "12.5\n",
            "<class 'int'>\n",
            "<class 'float'>\n",
            "<class 'float'>\n"
          ]
        }
      ]
    },
    {
      "cell_type": "code",
      "source": [
        "# OPERACIONES MATEMATICAS BASICAS\n",
        "\n",
        "print(3 + 2)  # suma\n",
        "print(3 - 2)  # resta\n",
        "print(3 * 2)  # multiplicacion\n",
        "print(3 / 2)  # division entera\n",
        "print(3 % 2)  # modulo\n",
        "print(3 ** 2) # potencia\n",
        "print(3 // 2) # divicion entera\n",
        "print(2** (1/2)) # raiz cuadrada\n",
        "\n",
        "\n",
        "\n"
      ],
      "metadata": {
        "colab": {
          "base_uri": "https://localhost:8080/"
        },
        "id": "rO1s0dTFzMoR",
        "outputId": "2ba1967f-e0e4-488c-c644-fb64d269f2ef"
      },
      "execution_count": null,
      "outputs": [
        {
          "output_type": "stream",
          "name": "stdout",
          "text": [
            "5\n",
            "1\n",
            "6\n",
            "1.5\n",
            "1\n",
            "9\n",
            "1\n"
          ]
        }
      ]
    },
    {
      "cell_type": "code",
      "source": [
        "# CONCATENACION\n",
        "name = \"josue\"\n",
        "apellido = \"alvarez casarrubia\"\n",
        "nombre_completo= name +\" \" + apellido\n",
        "print(\"-\"*100)\n",
        "print(nombre_completo )\n",
        "print(\"-\"*100)"
      ],
      "metadata": {
        "colab": {
          "base_uri": "https://localhost:8080/"
        },
        "id": "fnquVnDt0nVq",
        "outputId": "ceeb1afc-16b1-454d-fdc0-cea73ac30ed1"
      },
      "execution_count": null,
      "outputs": [
        {
          "output_type": "stream",
          "name": "stdout",
          "text": [
            "----------------------------------------------------------------------------------------------------\n",
            "josue alvarez casarrubia\n",
            "----------------------------------------------------------------------------------------------------\n"
          ]
        }
      ]
    },
    {
      "cell_type": "code",
      "source": [
        "a = 20\n",
        "print(a)\n",
        "b = 10\n",
        "a +=1\n",
        "print(a)\n",
        "\n"
      ],
      "metadata": {
        "colab": {
          "base_uri": "https://localhost:8080/"
        },
        "id": "BOOg2Ens23ZP",
        "outputId": "721beefe-5311-4f1d-ca0c-6640b4b8e5db"
      },
      "execution_count": null,
      "outputs": [
        {
          "output_type": "stream",
          "name": "stdout",
          "text": [
            "20\n",
            "21\n"
          ]
        }
      ]
    },
    {
      "cell_type": "code",
      "source": [
        "#MULTILINEA\n",
        "\n",
        "song=\"\"\"\n",
        "aa\n",
        "# bb\n",
        "# cc\n",
        "\"\"\"\n",
        "\n",
        "print(song)"
      ],
      "metadata": {
        "colab": {
          "base_uri": "https://localhost:8080/"
        },
        "id": "BzjR21dF4Vs-",
        "outputId": "833e4c9a-d3f4-488c-b418-45ff0b2fa6a9"
      },
      "execution_count": null,
      "outputs": [
        {
          "output_type": "stream",
          "name": "stdout",
          "text": [
            "\n",
            "aa\n",
            "bb\n",
            "cc\n",
            "\n"
          ]
        }
      ]
    },
    {
      "cell_type": "code",
      "source": [
        "# PROGRAMA PARA SUMAR DOS NUMEROS\n",
        "#LOS IMPUTS (SE SUGIERE QUE ESTEN AL FINAL DEL CODIGO)\n",
        "\n",
        "#forma1:\n",
        "a = input(\"ingere el primer numero\")\n",
        "b = input(\"ingrese el segundo numero\")\n",
        "print(float(a) + float(b))\n",
        "\n",
        "#forma 2\n",
        "a = float(input(\"ingere el primer numero\"))\n",
        "b = float(input(\"ingrese el segundo numero\"))\n",
        "print(a + b)\n"
      ],
      "metadata": {
        "colab": {
          "base_uri": "https://localhost:8080/"
        },
        "id": "U6XBTKrV5J7h",
        "outputId": "6df3daf4-072b-4480-8e3f-373a18f7feb2"
      },
      "execution_count": 22,
      "outputs": [
        {
          "output_type": "stream",
          "name": "stdout",
          "text": [
            "ingere el primer numero8\n",
            "ingrese el segundo numero7\n",
            "15.0\n"
          ]
        }
      ]
    },
    {
      "cell_type": "code",
      "source": [
        "# Programa para calcular el área de un círculo\n",
        "# A = PI* R^2\n",
        "\n",
        "#Declaración de  constante\n",
        "PI = 3.141592\n",
        "\n",
        "#ingresar el valor del radio\n",
        "radio = float(input(\"Ingrese el radio del círculo: \"))\n",
        "\n",
        "# Presentación de resultado\n",
        "area = PI * radio ** 2\n",
        "\n",
        "# Presentación de resultado\n",
        "print(\"el area del circulo con radio  \", radio, \"   es   \" ,area, \"u2\")\n"
      ],
      "metadata": {
        "colab": {
          "base_uri": "https://localhost:8080/"
        },
        "id": "Le6wDlkmAFuw",
        "outputId": "baf21c49-f525-4d6e-d22a-e51366766bdf"
      },
      "execution_count": 11,
      "outputs": [
        {
          "output_type": "stream",
          "name": "stdout",
          "text": [
            "Ingrese el radio del círculo: 4\n",
            "el area del circulo con radio   4.0    es    50.265472 u2\n"
          ]
        }
      ]
    },
    {
      "cell_type": "code",
      "source": [
        "#calcular el promedio\n",
        "\n",
        "nota_1 = float(input(\"ingrese la nota 1:\" ))\n",
        "porcentaje1 = float(input(\"ingrese el porcentaje de la nota 1:\" ))/100\n",
        "nota_2 = float(input(\"ingrese la nota 2:\" ))\n",
        "porcentaje2 = float(input(\"ingrese el porcentaje de la nota 2:\" ))/100\n",
        "nota_3 = float(input(\"ingrese la nota 3:\" ))\n",
        "porcentaje3 = float(input(\"ingrese el porcentaje de la nota 3:\" ))/100\n",
        "nota_4 = float(input(\"ingrese la nota 4:\" ))\n",
        "porcentaje4 = float(input(\"ingrese el porcentaje de la nota 4:\" ))/100\n",
        "\n",
        "\n",
        "\n",
        "#calculos\n",
        "nota_final = nota_1 * porcentaje1 + nota_2 * porcentaje2 + nota_3 * porcentaje3\n",
        "print(\"su nota final es:\", nota_final)"
      ],
      "metadata": {
        "colab": {
          "base_uri": "https://localhost:8080/"
        },
        "id": "k5tY9gIwNOR5",
        "outputId": "27e01e9d-7281-4f95-f7bf-7b4262f08f44"
      },
      "execution_count": 5,
      "outputs": [
        {
          "output_type": "stream",
          "name": "stdout",
          "text": [
            "ingrese la nota 1:4\n",
            "ingrese el porcentaje de la nota 1:40\n",
            "ingrese la nota 2:5\n",
            "ingrese el porcentaje de la nota 2:20\n",
            "ingrese la nota 3:4\n",
            "ingrese el porcentaje de la nota 3:10\n",
            "ingrese la nota 4:1.5\n",
            "ingrese el porcentaje de la nota 4:30\n",
            "su nota final es: 3.0\n"
          ]
        }
      ]
    },
    {
      "cell_type": "code",
      "source": [
        "#programa para calcular la cantidad de los  ingredientes para hacer MUFFINS\n",
        "\n",
        "#cantidad para 1 unidad de muffns\n",
        "leche = 240/10 #mililitros\n",
        "harina = 280/10 #gramos\n",
        "levadura = 30/10 #gramos\n",
        "sal = 2.5/10 #gramos\n",
        "azucar = 100/10 # gramos\n",
        "huevos = 2/10 #unidades\n",
        "mantequilla = 15 #gramos\n",
        "\n",
        "#calculos para calcular la cantidad de ingredientes de cualquier cantidad de muffins\n",
        "muffins = int(input(\"ingrese la cantidad de muffins que desea realizar\"))\n",
        "\n",
        "#calculos\n",
        "leche = leche * muffins #mililitros\n",
        "harina = harina * muffins #gramos\n",
        "levadura = levadura * muffins #gramos\n",
        "sal = sal * muffins #gramos\n",
        "azucar = azucar * muffins # gramos\n",
        "huevos = huevos * muffins#unidades\n",
        "mantequilla = mantequilla * muffins #gramos\n",
        "\n",
        "print(\"la cantidad de leche que necesitas es:\", leche,  \"ml\")\n",
        "print(\"la cantidad de harina que necesitas es:\", harina, \"g\")\n",
        "print(\"la cantidad de levadura que necesitas es:\", levadura, \"g\" )\n",
        "print(\"la cantidad de sal que necesitas es:\", sal, \"g\" )\n",
        "print(\"la cantidad de azucar que necesitas es:\", azucar, \"g\" )\n",
        "print(\"la cantidad de huevos que necesitas es:\", huevos, \"u\" )\n",
        "print(\"la cantidad de matequilla que necesitas es:\", mantequilla, \"g\" )"
      ],
      "metadata": {
        "colab": {
          "base_uri": "https://localhost:8080/"
        },
        "id": "IqFLoFuEHcy_",
        "outputId": "cb57a079-98ec-469b-d5a2-523144b69c09"
      },
      "execution_count": 12,
      "outputs": [
        {
          "output_type": "stream",
          "name": "stdout",
          "text": [
            "ingrese la cantidad de muffins que desea realizar100\n",
            "la cantidad de leche que necesitas es: 2400.0 ml\n",
            "la cantidad de harina que necesitas es: 2800.0 g\n",
            "la cantidad de levadura que necesitas es: 300.0 g\n",
            "la cantidad de sal que necesitas es: 25.0 g\n",
            "la cantidad de azucar que necesitas es: 1000.0 g\n",
            "la cantidad de huevos que necesitas es: 20.0 u\n",
            "la cantidad de matequilla que necesitas es: 1500 g\n"
          ]
        }
      ]
    }
  ]
}